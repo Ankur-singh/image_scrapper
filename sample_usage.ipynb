{
  "nbformat": 4,
  "nbformat_minor": 0,
  "metadata": {
    "colab": {
      "name": "scratchpad",
      "provenance": [],
      "toc_visible": true,
      "include_colab_link": true
    },
    "kernelspec": {
      "display_name": "Python 3",
      "name": "python3"
    }
  },
  "cells": [
    {
      "cell_type": "markdown",
      "metadata": {
        "id": "view-in-github",
        "colab_type": "text"
      },
      "source": [
        "<a href=\"https://colab.research.google.com/github/Ankur-singh/image_scrapper/blob/master/sample_usage.ipynb\" target=\"_parent\"><img src=\"https://colab.research.google.com/assets/colab-badge.svg\" alt=\"Open In Colab\"/></a>"
      ]
    },
    {
      "cell_type": "markdown",
      "metadata": {
        "id": "RPVgyPsB2kWI"
      },
      "source": [
        "# Image Url Scraper"
      ]
    },
    {
      "cell_type": "markdown",
      "metadata": {
        "id": "51dhIfej2qnd"
      },
      "source": [
        "### Setup"
      ]
    },
    {
      "cell_type": "markdown",
      "metadata": {
        "id": "n7O9dOVK4g6b"
      },
      "source": [
        "Setting up Chrome driver"
      ]
    },
    {
      "cell_type": "code",
      "metadata": {
        "id": "BGGKSrAD4Mt8"
      },
      "source": [
        "# System dependencies\n",
        "!apt-get update\n",
        "!apt install chromium-chromedriver\n",
        "\n",
        "# chrome driver\n",
        "!wget https://chromedriver.storage.googleapis.com/87.0.4280.20/chromedriver_linux64.zip\n",
        "!unzip chromedriver_linux64.zip\n",
        "!rm chromedriver_linux64.zip"
      ],
      "execution_count": null,
      "outputs": []
    },
    {
      "cell_type": "markdown",
      "metadata": {
        "id": "HcBiZvon4pd_"
      },
      "source": [
        "Installing *google-images-download* from github\n"
      ]
    },
    {
      "cell_type": "code",
      "metadata": {
        "id": "lIYdn1woOS1n"
      },
      "source": [
        "!git clone https://github.com/Joeclinton1/google-images-download.git\n",
        "%cd google-images-download \n",
        "!python setup.py install\n",
        "%cd ../"
      ],
      "execution_count": null,
      "outputs": []
    },
    {
      "cell_type": "markdown",
      "metadata": {
        "id": "xtIx5swENvfz"
      },
      "source": [
        "**Note**: You will need to **restart the session** for changes to reflect."
      ]
    },
    {
      "cell_type": "markdown",
      "metadata": {
        "id": "eSsClChD96XQ"
      },
      "source": [
        "### Code"
      ]
    },
    {
      "cell_type": "code",
      "metadata": {
        "id": "ijjLiwheVfzG"
      },
      "source": [
        "from google_images_download import google_images_download\n",
        "response = google_images_download.googleimagesdownload() "
      ],
      "execution_count": 1,
      "outputs": []
    },
    {
      "cell_type": "markdown",
      "metadata": {
        "id": "V1sxvvmLBMBx"
      },
      "source": [
        "I would high recommend you to check out the [docs](https://google-images-download.readthedocs.io/en/latest/index.html)."
      ]
    },
    {
      "cell_type": "code",
      "metadata": {
        "id": "_fa804FOVv_y"
      },
      "source": [
        "def get_urls(keyword, limit=20, save=False):\n",
        "  arguments = {\"keywords\":keyword, \n",
        "               \"limit\":limit, \n",
        "               \"silent_mode\":True, \n",
        "               \"no_download\":True, \n",
        "               \"chromedriver\": 'chromedriver'}\n",
        "               \n",
        "  urls = response.download(arguments)[0]\n",
        "  if save:\n",
        "    with open(f'{keyword}.txt', 'w') as f:\n",
        "      f.write('\\n'.join(urls[keyword]))\n",
        "  return urls"
      ],
      "execution_count": 2,
      "outputs": []
    },
    {
      "cell_type": "markdown",
      "metadata": {
        "id": "XvjXhGZFAKDN"
      },
      "source": [
        "### Downloading datasets"
      ]
    },
    {
      "cell_type": "code",
      "metadata": {
        "id": "C0wMisDV7raj"
      },
      "source": [
        "animals = 'dog cat lion tiger elephant horse donkey cheetah leopard wolf monkey sheep goat bear gorilla deer chimpanzee'.split()\n",
        "for animal in animals:\n",
        "  get_urls(animal, 180, save=True)"
      ],
      "execution_count": null,
      "outputs": []
    },
    {
      "cell_type": "code",
      "metadata": {
        "id": "rMCfUhnq-CBZ"
      },
      "source": [
        "## sanity check: number of urls in each files \n",
        "for animal in animals:\n",
        "  with open(f'{animal}.txt') as f:\n",
        "    print(len(f.readlines()))"
      ],
      "execution_count": null,
      "outputs": []
    }
  ]
}